{
 "cells": [
  {
   "cell_type": "markdown",
   "metadata": {},
   "source": [
    "# Motor Burning Cost Calculation for AXA France\n",
    "\n",
    "This notebook "
   ]
  },
  {
   "cell_type": "markdown",
   "metadata": {},
   "source": [
    "## 1. Parameters\n",
    "\n",
    "Change these parameters to :\n",
    "1. update the burning cost models ;\n",
    "2. apply to a different contract database ;\n",
    "3. select the output csv file."
   ]
  },
  {
   "cell_type": "code",
   "execution_count": 13,
   "metadata": {},
   "outputs": [],
   "source": [
    "burning_cost_models_filename = './data/models.xlsx'\n",
    "contract_database_filename = './data/base_RC_1000.csv'\n",
    "output_filename = './output/pp'"
   ]
  },
  {
   "cell_type": "markdown",
   "metadata": {},
   "source": [
    "## 2. Initialization\n",
    "\n",
    "This block :\n",
    "1. imports all externals libraries ;\n",
    "2. configures the spark big data engine for distributed computation."
   ]
  },
  {
   "cell_type": "code",
   "execution_count": 14,
   "metadata": {},
   "outputs": [],
   "source": [
    "import shutil\n",
    "import importlib\n",
    "import findspark\n",
    "import pyspark\n",
    "import model\n",
    "\n",
    "findspark.init()\n",
    "spark = pyspark.sql.SparkSession.builder \\\n",
    "        .master(\"local\") \\\n",
    "        .appName(\"Pure Premium\") \\\n",
    "        .getOrCreate()"
   ]
  },
  {
   "cell_type": "markdown",
   "metadata": {},
   "source": [
    "## 3. Data Loading\n",
    "\n",
    "It's time to load :\n",
    "1. the burning cost models ;\n",
    "2. the contract database.\n",
    "\n",
    "The cell outputs the number of contracts in the database."
   ]
  },
  {
   "cell_type": "code",
   "execution_count": 15,
   "metadata": {},
   "outputs": [
    {
     "data": {
      "text/plain": [
       "999"
      ]
     },
     "execution_count": 15,
     "metadata": {},
     "output_type": "execute_result"
    }
   ],
   "source": [
    "models = importlib.reload(model).Models(burning_cost_models_filename)\n",
    "\n",
    "df = spark.read.csv(contract_database_filename, header=True)\n",
    "df.count()"
   ]
  },
  {
   "cell_type": "markdown",
   "metadata": {},
   "source": [
    "## 4. User Define Computation Functor\n",
    "\n",
    "This cell creates a [functor](https://github.com/dbrattli/oslash/wiki/Functors,-Applicatives,-And-Monads-In-Pictures) with a [closure](https://en.wikipedia.org/wiki/Closure_(computer_programming) to bind the models into the spark scope by using a technique known as [currying](https://en.wikipedia.org/wiki/Currying).\n",
    "\n",
    "The method involves a function to create a function that with a binding of the variable \"models\" into the scope of the inner function.\n",
    "\n",
    "At the end of the cell, we create the functor by calling the outer function with the models as parameter."
   ]
  },
  {
   "cell_type": "code",
   "execution_count": 21,
   "metadata": {},
   "outputs": [],
   "source": [
    "def create_calculate_models_function(models):\n",
    "    \n",
    "    def calculate_models(contract):\n",
    "        results = {key: model.calculate(contract) for (key, model) in models.models.items()}\n",
    "        return pyspark.sql.Row(**results)\n",
    "    \n",
    "    return calculate_models\n",
    "\n",
    "calculate_model_functor = create_calculate_models_function(models)"
   ]
  },
  {
   "cell_type": "markdown",
   "metadata": {},
   "source": [
    "## 5. Apply computation functor in the distributed spark engine\n",
    "\n",
    "This cell applies the functor to every line of the contract database and returns a dataframe with the results of all models."
   ]
  },
  {
   "cell_type": "code",
   "execution_count": 22,
   "metadata": {},
   "outputs": [],
   "source": [
    "burning_costs = df.rdd.map(calculate_model_functor).toDF()"
   ]
  },
  {
   "cell_type": "markdown",
   "metadata": {},
   "source": [
    "## 6. Persist results to disk (csv file)\n",
    "\n"
   ]
  },
  {
   "cell_type": "code",
   "execution_count": 23,
   "metadata": {},
   "outputs": [],
   "source": [
    "# delete any previous result\n",
    "shutil.rmtree(output_filename, ignore_errors=True)\n",
    "\n",
    "# persist results to a csv file\n",
    "burning_costs.write.csv(output_filename, header=True)"
   ]
  },
  {
   "cell_type": "markdown",
   "metadata": {},
   "source": [
    "### Apendices"
   ]
  },
  {
   "cell_type": "code",
   "execution_count": null,
   "metadata": {},
   "outputs": [],
   "source": [
    "# print(models.models)"
   ]
  },
  {
   "cell_type": "code",
   "execution_count": null,
   "metadata": {},
   "outputs": [],
   "source": [
    "# print(models.models['Modele_RC_FREQ'])"
   ]
  },
  {
   "cell_type": "code",
   "execution_count": null,
   "metadata": {},
   "outputs": [],
   "source": [
    "# models.models['Modele_RC_FREQ'].calculate(df.head(), True)"
   ]
  },
  {
   "cell_type": "code",
   "execution_count": null,
   "metadata": {},
   "outputs": [],
   "source": [
    "# {key: model.calculate(df.head(), True) for key, model in models.models.items()}"
   ]
  },
  {
   "cell_type": "code",
   "execution_count": 20,
   "metadata": {},
   "outputs": [
    {
     "name": "stdout",
     "output_type": "stream",
     "text": [
      "ok 0 []\n",
      "ko 0 []\n",
      "not_found 0 []\n",
      "set()\n",
      "set()\n",
      "set()\n"
     ]
    }
   ],
   "source": [
    "for x in df.take(1000):\n",
    "    {key: model.calculate(x) for key, model in models.models.items()}\n",
    "print('ok', len(model.variables_ok), sorted(model.variables_ok))\n",
    "print('ko', len(model.variables_ko), sorted(model.variables_ko))\n",
    "print('not_found', len(model.variables_not_found), sorted(model.variables_not_found))\n",
    "print(model.variables_ok & model.variables_ko)\n",
    "print(model.variables_ok & model.variables_not_found)\n",
    "print(model.variables_not_found & model.variables_ko)"
   ]
  },
  {
   "cell_type": "code",
   "execution_count": null,
   "metadata": {},
   "outputs": [],
   "source": []
  }
 ],
 "metadata": {
  "kernelspec": {
   "display_name": "Python 3",
   "language": "python",
   "name": "python3"
  },
  "language_info": {
   "codemirror_mode": {
    "name": "ipython",
    "version": 3
   },
   "file_extension": ".py",
   "mimetype": "text/x-python",
   "name": "python",
   "nbconvert_exporter": "python",
   "pygments_lexer": "ipython3",
   "version": "3.6.2"
  }
 },
 "nbformat": 4,
 "nbformat_minor": 2
}
